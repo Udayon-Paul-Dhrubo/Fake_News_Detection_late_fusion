{
 "cells": [
  {
   "cell_type": "code",
   "execution_count": 1,
   "metadata": {},
   "outputs": [],
   "source": [
    "import csv"
   ]
  },
  {
   "cell_type": "code",
   "execution_count": 2,
   "metadata": {},
   "outputs": [],
   "source": [
    "tsv_file = \"../multimodal_only_samples/multimodal_train.tsv\""
   ]
  },
  {
   "cell_type": "code",
   "execution_count": 3,
   "metadata": {},
   "outputs": [
    {
     "name": "stdout",
     "output_type": "stream",
     "text": [
      "dict_keys(['author', 'clean_title', 'created_utc', 'domain', 'hasImage', 'id', 'image_url', 'linked_submission_id', 'num_comments', 'score', 'subreddit', 'title', 'upvote_ratio', '2_way_label', '3_way_label', '6_way_label'])\n"
     ]
    }
   ],
   "source": [
    "# Open the TSV file for reading\n",
    "with open(tsv_file, 'r') as file:\n",
    "    # Create a CSV DictReader object specifying the delimiter as a tab\n",
    "    tsv_reader = csv.DictReader(file, delimiter='\\t')\n",
    "    \n",
    "    for row in tsv_reader:\n",
    "        print(row.keys())\n",
    "        break;"
   ]
  },
  {
   "cell_type": "code",
   "execution_count": 5,
   "metadata": {},
   "outputs": [
    {
     "name": "stdout",
     "output_type": "stream",
     "text": [
      "{'author': 'Alexithymia', 'clean_title': 'my walgreens offbrand mucinex was engraved with the letters mucinex but in a different order', 'created_utc': '1551641244.0', 'domain': 'i.imgur.com', 'hasImage': 'True', 'id': 'awxhir', 'image_url': 'https://external-preview.redd.it/WylDbZrnbvZdBpgfa3ntxYf17CBHndiJWHylVm2j_nY.jpg?width=320&crop=smart&auto=webp&s=449659a10792de4d55c2f27d2176fdc8bc66e72a', 'linked_submission_id': '', 'num_comments': '2.0', 'score': '12', 'subreddit': 'mildlyinteresting', 'title': 'My Walgreens offbrand Mucinex was engraved with the letters Mucinex but in a different order', 'upvote_ratio': '0.84', '2_way_label': '1', '3_way_label': '0', '6_way_label': '0'}\n"
     ]
    }
   ],
   "source": [
    "# Open the TSV file for reading\n",
    "with open(tsv_file, 'r') as file:\n",
    "    # Create a CSV DictReader object specifying the delimiter as a tab\n",
    "    tsv_reader = csv.DictReader(file, delimiter='\\t')\n",
    "    \n",
    "    for row in tsv_reader:\n",
    "        print(row)\n",
    "        break;# Open the TSV file for reading\n"
   ]
  }
 ],
 "metadata": {
  "kernelspec": {
   "display_name": "myenv",
   "language": "python",
   "name": "python3"
  },
  "language_info": {
   "codemirror_mode": {
    "name": "ipython",
    "version": 3
   },
   "file_extension": ".py",
   "mimetype": "text/x-python",
   "name": "python",
   "nbconvert_exporter": "python",
   "pygments_lexer": "ipython3",
   "version": "3.8.18"
  }
 },
 "nbformat": 4,
 "nbformat_minor": 2
}
